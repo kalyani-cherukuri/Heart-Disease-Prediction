{
 "cells": [
  {
   "cell_type": "markdown",
   "id": "c93e2e63",
   "metadata": {},
   "source": [
    "# Importing Essential Libraries"
   ]
  },
  {
   "cell_type": "code",
   "execution_count": 1,
   "id": "97f51cd8",
   "metadata": {},
   "outputs": [],
   "source": [
    "import numpy as np\n",
    "import pandas as pd\n",
    "import seaborn as sns\n",
    "import matplotlib.pyplot as plt\n",
    "from matplotlib import rcParams\n",
    "from matplotlib.cm import rainbow\n",
    "%matplotlib inline\n",
    "import warnings\n",
    "warnings. filterwarnings('ignore')\n",
    "\n",
    "from sklearn.model_selection import train_test_split\n",
    "from sklearn.preprocessing import StandardScaler\n",
    "from sklearn.metrics import accuracy_score\n",
    "from sklearn.metrics import classification_report\n",
    "from sklearn import *\n",
    "\n",
    "from sklearn.neighbors import KNeighborsClassifier\n",
    "from sklearn.svm import SVC\n",
    "from sklearn.tree import DecisionTreeClassifier"
   ]
  },
  {
   "cell_type": "markdown",
   "id": "fa133bee",
   "metadata": {},
   "source": [
    "# Importing Dataset"
   ]
  },
  {
   "cell_type": "code",
   "execution_count": 2,
   "id": "11f395c3",
   "metadata": {},
   "outputs": [
    {
     "name": "stdout",
     "output_type": "stream",
     "text": [
      "<class 'pandas.core.frame.DataFrame'>\n",
      "RangeIndex: 1025 entries, 0 to 1024\n",
      "Data columns (total 14 columns):\n",
      " #   Column    Non-Null Count  Dtype  \n",
      "---  ------    --------------  -----  \n",
      " 0   age       1025 non-null   int64  \n",
      " 1   sex       1025 non-null   int64  \n",
      " 2   cp        1025 non-null   int64  \n",
      " 3   trestbps  1025 non-null   int64  \n",
      " 4   chol      1025 non-null   int64  \n",
      " 5   fbs       1025 non-null   int64  \n",
      " 6   restecg   1025 non-null   int64  \n",
      " 7   thalach   1025 non-null   int64  \n",
      " 8   exang     1025 non-null   int64  \n",
      " 9   oldpeak   1025 non-null   float64\n",
      " 10  slope     1025 non-null   int64  \n",
      " 11  ca        1025 non-null   int64  \n",
      " 12  thal      1025 non-null   int64  \n",
      " 13  target    1025 non-null   int64  \n",
      "dtypes: float64(1), int64(13)\n",
      "memory usage: 112.2 KB\n"
     ]
    }
   ],
   "source": [
    "heartData=pd.read_csv(r\"C:\\Users\\navya\\Downloads\\hearts.csv\");\n",
    "\n",
    "heartData.info()"
   ]
  },
  {
   "cell_type": "markdown",
   "id": "0d2a51ff",
   "metadata": {},
   "source": [
    "# More Info About Columns"
   ]
  },
  {
   "cell_type": "code",
   "execution_count": 3,
   "id": "84b61b06",
   "metadata": {},
   "outputs": [
    {
     "name": "stdout",
     "output_type": "stream",
     "text": [
      "age:\t\t\tage\n",
      "sex:\t\t\t1: male, 0: female\n",
      "cp:\t\t\tchest pain type, 1: typical angina, 2: atypical angina, 3: non-anginal pain, 4: asymptomatic\n",
      "trestbps:\t\t\tresting blood pressure\n",
      "chol:\t\t\t serum cholestoral in mg/dl\n",
      "fbs:\t\t\tfasting blood sugar > 120 mg/dl\n",
      "restecg:\t\t\tresting electrocardiographic results (values 0,1,2)\n",
      "thalach:\t\t\t maximum heart rate achieved\n",
      "exang:\t\t\texercise induced angina\n",
      "oldpeak:\t\t\toldpeak = ST depression induced by exercise relative to rest\n",
      "slope:\t\t\tthe slope of the peak exercise ST segment\n",
      "ca:\t\t\tnumber of major vessels (0-3) colored by flourosopy\n",
      "thal:\t\t\tthal: 3 = normal; 6 = fixed defect; 7 = reversable defect\n"
     ]
    }
   ],
   "source": [
    "\n",
    "info = [\"age\",\"1: male, 0: female\",\"chest pain type, 1: typical angina, 2: atypical angina, 3: non-anginal pain, 4: asymptomatic\",\"resting blood pressure\",\" serum cholestoral in mg/dl\",\"fasting blood sugar > 120 mg/dl\",\"resting electrocardiographic results (values 0,1,2)\",\" maximum heart rate achieved\",\"exercise induced angina\",\"oldpeak = ST depression induced by exercise relative to rest\",\"the slope of the peak exercise ST segment\",\"number of major vessels (0-3) colored by flourosopy\",\"thal: 3 = normal; 6 = fixed defect; 7 = reversable defect\"]\n",
    "\n",
    "\n",
    "   \n",
    "for i in range(len(info)):\n",
    "    print(heartData.columns[i]+\":\\t\\t\\t\"+info[i])"
   ]
  },
  {
   "cell_type": "code",
   "execution_count": 4,
   "id": "74e897d5",
   "metadata": {},
   "outputs": [
    {
     "data": {
      "text/html": [
       "<div>\n",
       "<style scoped>\n",
       "    .dataframe tbody tr th:only-of-type {\n",
       "        vertical-align: middle;\n",
       "    }\n",
       "\n",
       "    .dataframe tbody tr th {\n",
       "        vertical-align: top;\n",
       "    }\n",
       "\n",
       "    .dataframe thead th {\n",
       "        text-align: right;\n",
       "    }\n",
       "</style>\n",
       "<table border=\"1\" class=\"dataframe\">\n",
       "  <thead>\n",
       "    <tr style=\"text-align: right;\">\n",
       "      <th></th>\n",
       "      <th>age</th>\n",
       "      <th>sex</th>\n",
       "      <th>cp</th>\n",
       "      <th>trestbps</th>\n",
       "      <th>chol</th>\n",
       "      <th>fbs</th>\n",
       "      <th>restecg</th>\n",
       "      <th>thalach</th>\n",
       "      <th>exang</th>\n",
       "      <th>oldpeak</th>\n",
       "      <th>slope</th>\n",
       "      <th>ca</th>\n",
       "      <th>thal</th>\n",
       "      <th>target</th>\n",
       "    </tr>\n",
       "  </thead>\n",
       "  <tbody>\n",
       "    <tr>\n",
       "      <th>0</th>\n",
       "      <td>52</td>\n",
       "      <td>1</td>\n",
       "      <td>0</td>\n",
       "      <td>125</td>\n",
       "      <td>212</td>\n",
       "      <td>0</td>\n",
       "      <td>1</td>\n",
       "      <td>168</td>\n",
       "      <td>0</td>\n",
       "      <td>1.0</td>\n",
       "      <td>2</td>\n",
       "      <td>2</td>\n",
       "      <td>3</td>\n",
       "      <td>0</td>\n",
       "    </tr>\n",
       "    <tr>\n",
       "      <th>1</th>\n",
       "      <td>53</td>\n",
       "      <td>1</td>\n",
       "      <td>0</td>\n",
       "      <td>140</td>\n",
       "      <td>203</td>\n",
       "      <td>1</td>\n",
       "      <td>0</td>\n",
       "      <td>155</td>\n",
       "      <td>1</td>\n",
       "      <td>3.1</td>\n",
       "      <td>0</td>\n",
       "      <td>0</td>\n",
       "      <td>3</td>\n",
       "      <td>0</td>\n",
       "    </tr>\n",
       "    <tr>\n",
       "      <th>2</th>\n",
       "      <td>70</td>\n",
       "      <td>1</td>\n",
       "      <td>0</td>\n",
       "      <td>145</td>\n",
       "      <td>174</td>\n",
       "      <td>0</td>\n",
       "      <td>1</td>\n",
       "      <td>125</td>\n",
       "      <td>1</td>\n",
       "      <td>2.6</td>\n",
       "      <td>0</td>\n",
       "      <td>0</td>\n",
       "      <td>3</td>\n",
       "      <td>0</td>\n",
       "    </tr>\n",
       "    <tr>\n",
       "      <th>3</th>\n",
       "      <td>61</td>\n",
       "      <td>1</td>\n",
       "      <td>0</td>\n",
       "      <td>148</td>\n",
       "      <td>203</td>\n",
       "      <td>0</td>\n",
       "      <td>1</td>\n",
       "      <td>161</td>\n",
       "      <td>0</td>\n",
       "      <td>0.0</td>\n",
       "      <td>2</td>\n",
       "      <td>1</td>\n",
       "      <td>3</td>\n",
       "      <td>0</td>\n",
       "    </tr>\n",
       "    <tr>\n",
       "      <th>4</th>\n",
       "      <td>62</td>\n",
       "      <td>0</td>\n",
       "      <td>0</td>\n",
       "      <td>138</td>\n",
       "      <td>294</td>\n",
       "      <td>1</td>\n",
       "      <td>1</td>\n",
       "      <td>106</td>\n",
       "      <td>0</td>\n",
       "      <td>1.9</td>\n",
       "      <td>1</td>\n",
       "      <td>3</td>\n",
       "      <td>2</td>\n",
       "      <td>0</td>\n",
       "    </tr>\n",
       "    <tr>\n",
       "      <th>...</th>\n",
       "      <td>...</td>\n",
       "      <td>...</td>\n",
       "      <td>...</td>\n",
       "      <td>...</td>\n",
       "      <td>...</td>\n",
       "      <td>...</td>\n",
       "      <td>...</td>\n",
       "      <td>...</td>\n",
       "      <td>...</td>\n",
       "      <td>...</td>\n",
       "      <td>...</td>\n",
       "      <td>...</td>\n",
       "      <td>...</td>\n",
       "      <td>...</td>\n",
       "    </tr>\n",
       "    <tr>\n",
       "      <th>1020</th>\n",
       "      <td>59</td>\n",
       "      <td>1</td>\n",
       "      <td>1</td>\n",
       "      <td>140</td>\n",
       "      <td>221</td>\n",
       "      <td>0</td>\n",
       "      <td>1</td>\n",
       "      <td>164</td>\n",
       "      <td>1</td>\n",
       "      <td>0.0</td>\n",
       "      <td>2</td>\n",
       "      <td>0</td>\n",
       "      <td>2</td>\n",
       "      <td>1</td>\n",
       "    </tr>\n",
       "    <tr>\n",
       "      <th>1021</th>\n",
       "      <td>60</td>\n",
       "      <td>1</td>\n",
       "      <td>0</td>\n",
       "      <td>125</td>\n",
       "      <td>258</td>\n",
       "      <td>0</td>\n",
       "      <td>0</td>\n",
       "      <td>141</td>\n",
       "      <td>1</td>\n",
       "      <td>2.8</td>\n",
       "      <td>1</td>\n",
       "      <td>1</td>\n",
       "      <td>3</td>\n",
       "      <td>0</td>\n",
       "    </tr>\n",
       "    <tr>\n",
       "      <th>1022</th>\n",
       "      <td>47</td>\n",
       "      <td>1</td>\n",
       "      <td>0</td>\n",
       "      <td>110</td>\n",
       "      <td>275</td>\n",
       "      <td>0</td>\n",
       "      <td>0</td>\n",
       "      <td>118</td>\n",
       "      <td>1</td>\n",
       "      <td>1.0</td>\n",
       "      <td>1</td>\n",
       "      <td>1</td>\n",
       "      <td>2</td>\n",
       "      <td>0</td>\n",
       "    </tr>\n",
       "    <tr>\n",
       "      <th>1023</th>\n",
       "      <td>50</td>\n",
       "      <td>0</td>\n",
       "      <td>0</td>\n",
       "      <td>110</td>\n",
       "      <td>254</td>\n",
       "      <td>0</td>\n",
       "      <td>0</td>\n",
       "      <td>159</td>\n",
       "      <td>0</td>\n",
       "      <td>0.0</td>\n",
       "      <td>2</td>\n",
       "      <td>0</td>\n",
       "      <td>2</td>\n",
       "      <td>1</td>\n",
       "    </tr>\n",
       "    <tr>\n",
       "      <th>1024</th>\n",
       "      <td>54</td>\n",
       "      <td>1</td>\n",
       "      <td>0</td>\n",
       "      <td>120</td>\n",
       "      <td>188</td>\n",
       "      <td>0</td>\n",
       "      <td>1</td>\n",
       "      <td>113</td>\n",
       "      <td>0</td>\n",
       "      <td>1.4</td>\n",
       "      <td>1</td>\n",
       "      <td>1</td>\n",
       "      <td>3</td>\n",
       "      <td>0</td>\n",
       "    </tr>\n",
       "  </tbody>\n",
       "</table>\n",
       "<p>1025 rows × 14 columns</p>\n",
       "</div>"
      ],
      "text/plain": [
       "      age  sex  cp  trestbps  chol  fbs  restecg  thalach  exang  oldpeak  \\\n",
       "0      52    1   0       125   212    0        1      168      0      1.0   \n",
       "1      53    1   0       140   203    1        0      155      1      3.1   \n",
       "2      70    1   0       145   174    0        1      125      1      2.6   \n",
       "3      61    1   0       148   203    0        1      161      0      0.0   \n",
       "4      62    0   0       138   294    1        1      106      0      1.9   \n",
       "...   ...  ...  ..       ...   ...  ...      ...      ...    ...      ...   \n",
       "1020   59    1   1       140   221    0        1      164      1      0.0   \n",
       "1021   60    1   0       125   258    0        0      141      1      2.8   \n",
       "1022   47    1   0       110   275    0        0      118      1      1.0   \n",
       "1023   50    0   0       110   254    0        0      159      0      0.0   \n",
       "1024   54    1   0       120   188    0        1      113      0      1.4   \n",
       "\n",
       "      slope  ca  thal  target  \n",
       "0         2   2     3       0  \n",
       "1         0   0     3       0  \n",
       "2         0   0     3       0  \n",
       "3         2   1     3       0  \n",
       "4         1   3     2       0  \n",
       "...     ...  ..   ...     ...  \n",
       "1020      2   0     2       1  \n",
       "1021      1   1     3       0  \n",
       "1022      1   1     2       0  \n",
       "1023      2   0     2       1  \n",
       "1024      1   1     3       0  \n",
       "\n",
       "[1025 rows x 14 columns]"
      ]
     },
     "execution_count": 4,
     "metadata": {},
     "output_type": "execute_result"
    }
   ],
   "source": [
    "heartData"
   ]
  },
  {
   "cell_type": "markdown",
   "id": "166c8713",
   "metadata": {},
   "source": [
    "# Description"
   ]
  },
  {
   "cell_type": "code",
   "execution_count": 5,
   "id": "dc6bed9a",
   "metadata": {
    "scrolled": true
   },
   "outputs": [
    {
     "data": {
      "text/html": [
       "<div>\n",
       "<style scoped>\n",
       "    .dataframe tbody tr th:only-of-type {\n",
       "        vertical-align: middle;\n",
       "    }\n",
       "\n",
       "    .dataframe tbody tr th {\n",
       "        vertical-align: top;\n",
       "    }\n",
       "\n",
       "    .dataframe thead th {\n",
       "        text-align: right;\n",
       "    }\n",
       "</style>\n",
       "<table border=\"1\" class=\"dataframe\">\n",
       "  <thead>\n",
       "    <tr style=\"text-align: right;\">\n",
       "      <th></th>\n",
       "      <th>age</th>\n",
       "      <th>sex</th>\n",
       "      <th>cp</th>\n",
       "      <th>trestbps</th>\n",
       "      <th>chol</th>\n",
       "      <th>fbs</th>\n",
       "      <th>restecg</th>\n",
       "      <th>thalach</th>\n",
       "      <th>exang</th>\n",
       "      <th>oldpeak</th>\n",
       "      <th>slope</th>\n",
       "      <th>ca</th>\n",
       "      <th>thal</th>\n",
       "      <th>target</th>\n",
       "    </tr>\n",
       "  </thead>\n",
       "  <tbody>\n",
       "    <tr>\n",
       "      <th>count</th>\n",
       "      <td>1025.000000</td>\n",
       "      <td>1025.000000</td>\n",
       "      <td>1025.000000</td>\n",
       "      <td>1025.000000</td>\n",
       "      <td>1025.00000</td>\n",
       "      <td>1025.000000</td>\n",
       "      <td>1025.000000</td>\n",
       "      <td>1025.000000</td>\n",
       "      <td>1025.000000</td>\n",
       "      <td>1025.000000</td>\n",
       "      <td>1025.000000</td>\n",
       "      <td>1025.000000</td>\n",
       "      <td>1025.000000</td>\n",
       "      <td>1025.000000</td>\n",
       "    </tr>\n",
       "    <tr>\n",
       "      <th>mean</th>\n",
       "      <td>54.434146</td>\n",
       "      <td>0.695610</td>\n",
       "      <td>0.942439</td>\n",
       "      <td>131.611707</td>\n",
       "      <td>246.00000</td>\n",
       "      <td>0.149268</td>\n",
       "      <td>0.529756</td>\n",
       "      <td>149.114146</td>\n",
       "      <td>0.336585</td>\n",
       "      <td>1.071512</td>\n",
       "      <td>1.385366</td>\n",
       "      <td>0.754146</td>\n",
       "      <td>2.323902</td>\n",
       "      <td>0.513171</td>\n",
       "    </tr>\n",
       "    <tr>\n",
       "      <th>std</th>\n",
       "      <td>9.072290</td>\n",
       "      <td>0.460373</td>\n",
       "      <td>1.029641</td>\n",
       "      <td>17.516718</td>\n",
       "      <td>51.59251</td>\n",
       "      <td>0.356527</td>\n",
       "      <td>0.527878</td>\n",
       "      <td>23.005724</td>\n",
       "      <td>0.472772</td>\n",
       "      <td>1.175053</td>\n",
       "      <td>0.617755</td>\n",
       "      <td>1.030798</td>\n",
       "      <td>0.620660</td>\n",
       "      <td>0.500070</td>\n",
       "    </tr>\n",
       "    <tr>\n",
       "      <th>min</th>\n",
       "      <td>29.000000</td>\n",
       "      <td>0.000000</td>\n",
       "      <td>0.000000</td>\n",
       "      <td>94.000000</td>\n",
       "      <td>126.00000</td>\n",
       "      <td>0.000000</td>\n",
       "      <td>0.000000</td>\n",
       "      <td>71.000000</td>\n",
       "      <td>0.000000</td>\n",
       "      <td>0.000000</td>\n",
       "      <td>0.000000</td>\n",
       "      <td>0.000000</td>\n",
       "      <td>0.000000</td>\n",
       "      <td>0.000000</td>\n",
       "    </tr>\n",
       "    <tr>\n",
       "      <th>25%</th>\n",
       "      <td>48.000000</td>\n",
       "      <td>0.000000</td>\n",
       "      <td>0.000000</td>\n",
       "      <td>120.000000</td>\n",
       "      <td>211.00000</td>\n",
       "      <td>0.000000</td>\n",
       "      <td>0.000000</td>\n",
       "      <td>132.000000</td>\n",
       "      <td>0.000000</td>\n",
       "      <td>0.000000</td>\n",
       "      <td>1.000000</td>\n",
       "      <td>0.000000</td>\n",
       "      <td>2.000000</td>\n",
       "      <td>0.000000</td>\n",
       "    </tr>\n",
       "    <tr>\n",
       "      <th>50%</th>\n",
       "      <td>56.000000</td>\n",
       "      <td>1.000000</td>\n",
       "      <td>1.000000</td>\n",
       "      <td>130.000000</td>\n",
       "      <td>240.00000</td>\n",
       "      <td>0.000000</td>\n",
       "      <td>1.000000</td>\n",
       "      <td>152.000000</td>\n",
       "      <td>0.000000</td>\n",
       "      <td>0.800000</td>\n",
       "      <td>1.000000</td>\n",
       "      <td>0.000000</td>\n",
       "      <td>2.000000</td>\n",
       "      <td>1.000000</td>\n",
       "    </tr>\n",
       "    <tr>\n",
       "      <th>75%</th>\n",
       "      <td>61.000000</td>\n",
       "      <td>1.000000</td>\n",
       "      <td>2.000000</td>\n",
       "      <td>140.000000</td>\n",
       "      <td>275.00000</td>\n",
       "      <td>0.000000</td>\n",
       "      <td>1.000000</td>\n",
       "      <td>166.000000</td>\n",
       "      <td>1.000000</td>\n",
       "      <td>1.800000</td>\n",
       "      <td>2.000000</td>\n",
       "      <td>1.000000</td>\n",
       "      <td>3.000000</td>\n",
       "      <td>1.000000</td>\n",
       "    </tr>\n",
       "    <tr>\n",
       "      <th>max</th>\n",
       "      <td>77.000000</td>\n",
       "      <td>1.000000</td>\n",
       "      <td>3.000000</td>\n",
       "      <td>200.000000</td>\n",
       "      <td>564.00000</td>\n",
       "      <td>1.000000</td>\n",
       "      <td>2.000000</td>\n",
       "      <td>202.000000</td>\n",
       "      <td>1.000000</td>\n",
       "      <td>6.200000</td>\n",
       "      <td>2.000000</td>\n",
       "      <td>4.000000</td>\n",
       "      <td>3.000000</td>\n",
       "      <td>1.000000</td>\n",
       "    </tr>\n",
       "  </tbody>\n",
       "</table>\n",
       "</div>"
      ],
      "text/plain": [
       "               age          sex           cp     trestbps        chol  \\\n",
       "count  1025.000000  1025.000000  1025.000000  1025.000000  1025.00000   \n",
       "mean     54.434146     0.695610     0.942439   131.611707   246.00000   \n",
       "std       9.072290     0.460373     1.029641    17.516718    51.59251   \n",
       "min      29.000000     0.000000     0.000000    94.000000   126.00000   \n",
       "25%      48.000000     0.000000     0.000000   120.000000   211.00000   \n",
       "50%      56.000000     1.000000     1.000000   130.000000   240.00000   \n",
       "75%      61.000000     1.000000     2.000000   140.000000   275.00000   \n",
       "max      77.000000     1.000000     3.000000   200.000000   564.00000   \n",
       "\n",
       "               fbs      restecg      thalach        exang      oldpeak  \\\n",
       "count  1025.000000  1025.000000  1025.000000  1025.000000  1025.000000   \n",
       "mean      0.149268     0.529756   149.114146     0.336585     1.071512   \n",
       "std       0.356527     0.527878    23.005724     0.472772     1.175053   \n",
       "min       0.000000     0.000000    71.000000     0.000000     0.000000   \n",
       "25%       0.000000     0.000000   132.000000     0.000000     0.000000   \n",
       "50%       0.000000     1.000000   152.000000     0.000000     0.800000   \n",
       "75%       0.000000     1.000000   166.000000     1.000000     1.800000   \n",
       "max       1.000000     2.000000   202.000000     1.000000     6.200000   \n",
       "\n",
       "             slope           ca         thal       target  \n",
       "count  1025.000000  1025.000000  1025.000000  1025.000000  \n",
       "mean      1.385366     0.754146     2.323902     0.513171  \n",
       "std       0.617755     1.030798     0.620660     0.500070  \n",
       "min       0.000000     0.000000     0.000000     0.000000  \n",
       "25%       1.000000     0.000000     2.000000     0.000000  \n",
       "50%       1.000000     0.000000     2.000000     1.000000  \n",
       "75%       2.000000     1.000000     3.000000     1.000000  \n",
       "max       2.000000     4.000000     3.000000     1.000000  "
      ]
     },
     "execution_count": 5,
     "metadata": {},
     "output_type": "execute_result"
    }
   ],
   "source": [
    "heartData.describe()"
   ]
  },
  {
   "cell_type": "markdown",
   "id": "1875dc46",
   "metadata": {},
   "source": [
    "# Missing Values"
   ]
  },
  {
   "cell_type": "code",
   "execution_count": 6,
   "id": "5ba31d7a",
   "metadata": {
    "scrolled": true
   },
   "outputs": [
    {
     "data": {
      "text/plain": [
       "age         0\n",
       "sex         0\n",
       "cp          0\n",
       "trestbps    0\n",
       "chol        0\n",
       "fbs         0\n",
       "restecg     0\n",
       "thalach     0\n",
       "exang       0\n",
       "oldpeak     0\n",
       "slope       0\n",
       "ca          0\n",
       "thal        0\n",
       "target      0\n",
       "dtype: int64"
      ]
     },
     "execution_count": 6,
     "metadata": {},
     "output_type": "execute_result"
    }
   ],
   "source": [
    "heartData.isnull().sum()"
   ]
  },
  {
   "cell_type": "code",
   "execution_count": 7,
   "id": "da4ccc85",
   "metadata": {},
   "outputs": [
    {
     "name": "stdout",
     "output_type": "stream",
     "text": [
      "Total percentage of missing data is 0.0%\n",
      "Duplicate rows:\n"
     ]
    }
   ],
   "source": [
    "missing_data= heartData.isnull().sum()\n",
    "total_percentage = (missing_data.sum()/heartData.shape[0]) * 100\n",
    "print(f'Total percentage of missing data is {round(total_percentage,2)}%')\n",
    "duplicate=heartData[heartData.duplicated()]\n",
    "print(\"Duplicate rows:\")\n",
    "duplicate\n",
    "#drop duplicate rows\n",
    "heartData=heartData.drop_duplicates()"
   ]
  },
  {
   "cell_type": "markdown",
   "id": "788578ef",
   "metadata": {},
   "source": [
    "# Analysing the 'target variable'"
   ]
  },
  {
   "cell_type": "code",
   "execution_count": 8,
   "id": "a20c6dc1",
   "metadata": {},
   "outputs": [
    {
     "data": {
      "text/plain": [
       "count    302.000000\n",
       "mean       0.543046\n",
       "std        0.498970\n",
       "min        0.000000\n",
       "25%        0.000000\n",
       "50%        1.000000\n",
       "75%        1.000000\n",
       "max        1.000000\n",
       "Name: target, dtype: float64"
      ]
     },
     "execution_count": 8,
     "metadata": {},
     "output_type": "execute_result"
    }
   ],
   "source": [
    "heartData[\"target\"].describe()"
   ]
  },
  {
   "cell_type": "code",
   "execution_count": 9,
   "id": "3033c688",
   "metadata": {},
   "outputs": [
    {
     "name": "stdout",
     "output_type": "stream",
     "text": [
      "target      1.000000\n",
      "exang       0.435601\n",
      "cp          0.432080\n",
      "oldpeak     0.429146\n",
      "thalach     0.419955\n",
      "ca          0.408992\n",
      "slope       0.343940\n",
      "thal        0.343101\n",
      "sex         0.283609\n",
      "age         0.221476\n",
      "trestbps    0.146269\n",
      "restecg     0.134874\n",
      "chol        0.081437\n",
      "fbs         0.026826\n",
      "Name: target, dtype: float64\n"
     ]
    }
   ],
   "source": [
    "print(heartData.corr()[\"target\"].abs().sort_values(ascending=False))"
   ]
  },
  {
   "cell_type": "code",
   "execution_count": 10,
   "id": "da44adac",
   "metadata": {},
   "outputs": [
    {
     "data": {
      "text/plain": [
       "<matplotlib.colorbar.Colorbar at 0x1d5bf82afd0>"
      ]
     },
     "execution_count": 10,
     "metadata": {},
     "output_type": "execute_result"
    },
    {
     "data": {
      "image/png": "[encoded data removed]",
      "text/plain": [
       "<Figure size 720x720 with 2 Axes>"
      ]
     },
     "metadata": {
      "needs_background": "light"
     },
     "output_type": "display_data"
    }
   ],
   "source": [
    "rcParams['figure.figsize'] = 10,10\n",
    "plt.matshow(heartData.corr())\n",
    "plt.yticks(np.arange(heartData.shape[1]), heartData.columns)\n",
    "plt.xticks(np.arange(heartData.shape[1]), heartData.columns)\n",
    "plt.colorbar()"
   ]
  },
  {
   "cell_type": "markdown",
   "id": "e7c2c834",
   "metadata": {},
   "source": [
    "# checking correlation between columns"
   ]
  },
  {
   "cell_type": "code",
   "execution_count": 11,
   "id": "24790bd3",
   "metadata": {},
   "outputs": [
    {
     "data": {
      "text/html": [
       "<style  type=\"text/css\" >\n",
       "#T_76253_row0_col0,#T_76253_row1_col1,#T_76253_row2_col2,#T_76253_row3_col3,#T_76253_row4_col4,#T_76253_row5_col5,#T_76253_row6_col6,#T_76253_row7_col7,#T_76253_row8_col8,#T_76253_row9_col9,#T_76253_row10_col10,#T_76253_row11_col11,#T_76253_row12_col12,#T_76253_row13_col13{\n",
       "            background-color:  #b40426;\n",
       "            color:  #f1f1f1;\n",
       "        }#T_76253_row0_col1{\n",
       "            background-color:  #688aef;\n",
       "            color:  #000000;\n",
       "        }#T_76253_row0_col2,#T_76253_row2_col0,#T_76253_row4_col3,#T_76253_row11_col4{\n",
       "            background-color:  #88abfd;\n",
       "            color:  #000000;\n",
       "        }#T_76253_row0_col3,#T_76253_row11_col12{\n",
       "            background-color:  #b7cff9;\n",
       "            color:  #000000;\n",
       "        }#T_76253_row0_col4{\n",
       "            background-color:  #abc8fd;\n",
       "            color:  #000000;\n",
       "        }#T_76253_row0_col5,#T_76253_row7_col1,#T_76253_row7_col12,#T_76253_row8_col3{\n",
       "            background-color:  #7699f6;\n",
       "            color:  #000000;\n",
       "        }#T_76253_row0_col6{\n",
       "            background-color:  #445acc;\n",
       "            color:  #f1f1f1;\n",
       "        }#T_76253_row0_col7,#T_76253_row1_col4,#T_76253_row4_col6,#T_76253_row6_col5,#T_76253_row7_col0,#T_76253_row8_col2,#T_76253_row8_col13,#T_76253_row9_col10,#T_76253_row10_col9,#T_76253_row13_col1,#T_76253_row13_col3,#T_76253_row13_col8,#T_76253_row13_col11,#T_76253_row13_col12{\n",
       "            background-color:  #3b4cc0;\n",
       "            color:  #f1f1f1;\n",
       "        }#T_76253_row0_col8,#T_76253_row1_col11,#T_76253_row5_col0,#T_76253_row5_col9{\n",
       "            background-color:  #b6cefa;\n",
       "            color:  #000000;\n",
       "        }#T_76253_row0_col9,#T_76253_row11_col0,#T_76253_row12_col9{\n",
       "            background-color:  #dcdddd;\n",
       "            color:  #000000;\n",
       "        }#T_76253_row0_col10{\n",
       "            background-color:  #90b2fe;\n",
       "            color:  #000000;\n",
       "        }#T_76253_row0_col11{\n",
       "            background-color:  #dedcdb;\n",
       "            color:  #000000;\n",
       "        }#T_76253_row0_col12,#T_76253_row3_col12{\n",
       "            background-color:  #9fbfff;\n",
       "            color:  #000000;\n",
       "        }#T_76253_row0_col13,#T_76253_row2_col11,#T_76253_row7_col9{\n",
       "            background-color:  #6a8bef;\n",
       "            color:  #000000;\n",
       "        }#T_76253_row1_col0,#T_76253_row8_col4,#T_76253_row12_col7{\n",
       "            background-color:  #81a4fb;\n",
       "            color:  #000000;\n",
       "        }#T_76253_row1_col2,#T_76253_row12_col4{\n",
       "            background-color:  #8badfd;\n",
       "            color:  #000000;\n",
       "        }#T_76253_row1_col3,#T_76253_row1_col6{\n",
       "            background-color:  #516ddb;\n",
       "            color:  #000000;\n",
       "        }#T_76253_row1_col5,#T_76253_row11_col7,#T_76253_row12_col6{\n",
       "            background-color:  #5f7fe8;\n",
       "            color:  #000000;\n",
       "        }#T_76253_row1_col7,#T_76253_row3_col7,#T_76253_row4_col13,#T_76253_row6_col12,#T_76253_row13_col6{\n",
       "            background-color:  #8caffe;\n",
       "            color:  #000000;\n",
       "        }#T_76253_row1_col8,#T_76253_row12_col11{\n",
       "            background-color:  #c1d4f4;\n",
       "            color:  #000000;\n",
       "        }#T_76253_row1_col9{\n",
       "            background-color:  #c9d7f0;\n",
       "            color:  #000000;\n",
       "        }#T_76253_row1_col10{\n",
       "            background-color:  #aec9fc;\n",
       "            color:  #000000;\n",
       "        }#T_76253_row1_col12,#T_76253_row9_col12{\n",
       "            background-color:  #c4d5f3;\n",
       "            color:  #000000;\n",
       "        }#T_76253_row1_col13{\n",
       "            background-color:  #5b7ae5;\n",
       "            color:  #000000;\n",
       "        }#T_76253_row2_col1,#T_76253_row12_col3{\n",
       "            background-color:  #7597f6;\n",
       "            color:  #000000;\n",
       "        }#T_76253_row2_col3{\n",
       "            background-color:  #7093f3;\n",
       "            color:  #000000;\n",
       "        }#T_76253_row2_col4{\n",
       "            background-color:  #5a78e4;\n",
       "            color:  #000000;\n",
       "        }#T_76253_row2_col5,#T_76253_row2_col6,#T_76253_row7_col6,#T_76253_row10_col0,#T_76253_row12_col2{\n",
       "            background-color:  #6f92f3;\n",
       "            color:  #000000;\n",
       "        }#T_76253_row2_col7,#T_76253_row7_col2{\n",
       "            background-color:  #dbdcde;\n",
       "            color:  #000000;\n",
       "        }#T_76253_row2_col8,#T_76253_row3_col6{\n",
       "            background-color:  #4358cb;\n",
       "            color:  #f1f1f1;\n",
       "        }#T_76253_row2_col9{\n",
       "            background-color:  #94b6ff;\n",
       "            color:  #000000;\n",
       "        }#T_76253_row2_col10{\n",
       "            background-color:  #ccd9ed;\n",
       "            color:  #000000;\n",
       "        }#T_76253_row2_col12{\n",
       "            background-color:  #6485ec;\n",
       "            color:  #000000;\n",
       "        }#T_76253_row2_col13{\n",
       "            background-color:  #f2cab5;\n",
       "            color:  #000000;\n",
       "        }#T_76253_row3_col0{\n",
       "            background-color:  #d9dce1;\n",
       "            color:  #000000;\n",
       "        }#T_76253_row3_col1,#T_76253_row9_col2,#T_76253_row10_col12{\n",
       "            background-color:  #7396f5;\n",
       "            color:  #000000;\n",
       "        }#T_76253_row3_col2,#T_76253_row6_col7{\n",
       "            background-color:  #a3c2fe;\n",
       "            color:  #000000;\n",
       "        }#T_76253_row3_col4{\n",
       "            background-color:  #93b5fe;\n",
       "            color:  #000000;\n",
       "        }#T_76253_row3_col5{\n",
       "            background-color:  #89acfd;\n",
       "            color:  #000000;\n",
       "        }#T_76253_row3_col8,#T_76253_row4_col8,#T_76253_row5_col2,#T_76253_row8_col0{\n",
       "            background-color:  #afcafc;\n",
       "            color:  #000000;\n",
       "        }#T_76253_row3_col9{\n",
       "            background-color:  #dadce0;\n",
       "            color:  #000000;\n",
       "        }#T_76253_row3_col10{\n",
       "            background-color:  #9abbff;\n",
       "            color:  #000000;\n",
       "        }#T_76253_row3_col11{\n",
       "            background-color:  #b3cdfb;\n",
       "            color:  #000000;\n",
       "        }#T_76253_row3_col13{\n",
       "            background-color:  #7b9ff9;\n",
       "            color:  #000000;\n",
       "        }#T_76253_row4_col0,#T_76253_row9_col0{\n",
       "            background-color:  #cad8ef;\n",
       "            color:  #000000;\n",
       "        }#T_76253_row4_col1,#T_76253_row7_col5,#T_76253_row8_col6{\n",
       "            background-color:  #4f69d9;\n",
       "            color:  #000000;\n",
       "        }#T_76253_row4_col2{\n",
       "            background-color:  #85a8fc;\n",
       "            color:  #000000;\n",
       "        }#T_76253_row4_col5{\n",
       "            background-color:  #5572df;\n",
       "            color:  #000000;\n",
       "        }#T_76253_row4_col7,#T_76253_row5_col7{\n",
       "            background-color:  #97b8ff;\n",
       "            color:  #000000;\n",
       "        }#T_76253_row4_col9,#T_76253_row6_col13{\n",
       "            background-color:  #bfd3f6;\n",
       "            color:  #000000;\n",
       "        }#T_76253_row4_col10,#T_76253_row10_col2{\n",
       "            background-color:  #b5cdfa;\n",
       "            color:  #000000;\n",
       "        }#T_76253_row4_col11{\n",
       "            background-color:  #b1cbfc;\n",
       "            color:  #000000;\n",
       "        }#T_76253_row4_col12{\n",
       "            background-color:  #a7c5fe;\n",
       "            color:  #000000;\n",
       "        }#T_76253_row5_col1,#T_76253_row6_col8{\n",
       "            background-color:  #8fb1fe;\n",
       "            color:  #000000;\n",
       "        }#T_76253_row5_col3,#T_76253_row5_col13{\n",
       "            background-color:  #98b9ff;\n",
       "            color:  #000000;\n",
       "        }#T_76253_row5_col4,#T_76253_row6_col1{\n",
       "            background-color:  #7295f4;\n",
       "            color:  #000000;\n",
       "        }#T_76253_row5_col6,#T_76253_row11_col6{\n",
       "            background-color:  #4b64d5;\n",
       "            color:  #f1f1f1;\n",
       "        }#T_76253_row5_col8{\n",
       "            background-color:  #a6c4fe;\n",
       "            color:  #000000;\n",
       "        }#T_76253_row5_col10,#T_76253_row6_col9,#T_76253_row12_col0{\n",
       "            background-color:  #a9c6fd;\n",
       "            color:  #000000;\n",
       "        }#T_76253_row5_col11,#T_76253_row11_col8{\n",
       "            background-color:  #bed2f6;\n",
       "            color:  #000000;\n",
       "        }#T_76253_row5_col12,#T_76253_row6_col11{\n",
       "            background-color:  #86a9fc;\n",
       "            color:  #000000;\n",
       "        }#T_76253_row6_col0,#T_76253_row8_col10,#T_76253_row9_col4{\n",
       "            background-color:  #7da0f9;\n",
       "            color:  #000000;\n",
       "        }#T_76253_row6_col2,#T_76253_row11_col1{\n",
       "            background-color:  #a2c1ff;\n",
       "            color:  #000000;\n",
       "        }#T_76253_row6_col3{\n",
       "            background-color:  #4257c9;\n",
       "            color:  #f1f1f1;\n",
       "        }#T_76253_row6_col4,#T_76253_row7_col8{\n",
       "            background-color:  #465ecf;\n",
       "            color:  #f1f1f1;\n",
       "        }#T_76253_row6_col10{\n",
       "            background-color:  #c7d7f0;\n",
       "            color:  #000000;\n",
       "        }#T_76253_row7_col3{\n",
       "            background-color:  #5470de;\n",
       "            color:  #000000;\n",
       "        }#T_76253_row7_col4{\n",
       "            background-color:  #6c8ff1;\n",
       "            color:  #000000;\n",
       "        }#T_76253_row7_col10{\n",
       "            background-color:  #f3c8b2;\n",
       "            color:  #000000;\n",
       "        }#T_76253_row7_col11,#T_76253_row10_col8{\n",
       "            background-color:  #6282ea;\n",
       "            color:  #000000;\n",
       "        }#T_76253_row7_col13{\n",
       "            background-color:  #f1ccb8;\n",
       "            color:  #000000;\n",
       "        }#T_76253_row8_col1{\n",
       "            background-color:  #aac7fd;\n",
       "            color:  #000000;\n",
       "        }#T_76253_row8_col5{\n",
       "            background-color:  #5977e3;\n",
       "            color:  #000000;\n",
       "        }#T_76253_row8_col7{\n",
       "            background-color:  #3e51c5;\n",
       "            color:  #f1f1f1;\n",
       "        }#T_76253_row8_col9{\n",
       "            background-color:  #e9d5cb;\n",
       "            color:  #000000;\n",
       "        }#T_76253_row8_col11{\n",
       "            background-color:  #bad0f8;\n",
       "            color:  #000000;\n",
       "        }#T_76253_row8_col12{\n",
       "            background-color:  #c3d5f4;\n",
       "            color:  #000000;\n",
       "        }#T_76253_row9_col1,#T_76253_row9_col3,#T_76253_row12_col10{\n",
       "            background-color:  #9ebeff;\n",
       "            color:  #000000;\n",
       "        }#T_76253_row9_col5,#T_76253_row9_col6{\n",
       "            background-color:  #536edd;\n",
       "            color:  #000000;\n",
       "        }#T_76253_row9_col7{\n",
       "            background-color:  #455cce;\n",
       "            color:  #f1f1f1;\n",
       "        }#T_76253_row9_col8{\n",
       "            background-color:  #dddcdc;\n",
       "            color:  #000000;\n",
       "        }#T_76253_row9_col11{\n",
       "            background-color:  #d2dbe8;\n",
       "            color:  #000000;\n",
       "        }#T_76253_row9_col13{\n",
       "            background-color:  #3c4ec2;\n",
       "            color:  #f1f1f1;\n",
       "        }#T_76253_row10_col1{\n",
       "            background-color:  #799cf8;\n",
       "            color:  #000000;\n",
       "        }#T_76253_row10_col3,#T_76253_row10_col5{\n",
       "            background-color:  #4055c8;\n",
       "            color:  #f1f1f1;\n",
       "        }#T_76253_row10_col4{\n",
       "            background-color:  #6e90f2;\n",
       "            color:  #000000;\n",
       "        }#T_76253_row10_col6,#T_76253_row11_col5{\n",
       "            background-color:  #7ea1fa;\n",
       "            color:  #000000;\n",
       "        }#T_76253_row10_col7{\n",
       "            background-color:  #ebd3c6;\n",
       "            color:  #000000;\n",
       "        }#T_76253_row10_col11{\n",
       "            background-color:  #84a7fc;\n",
       "            color:  #000000;\n",
       "        }#T_76253_row10_col13{\n",
       "            background-color:  #e8d6cc;\n",
       "            color:  #000000;\n",
       "        }#T_76253_row11_col2{\n",
       "            background-color:  #6788ee;\n",
       "            color:  #000000;\n",
       "        }#T_76253_row11_col3{\n",
       "            background-color:  #80a3fa;\n",
       "            color:  #000000;\n",
       "        }#T_76253_row11_col9{\n",
       "            background-color:  #e1dad6;\n",
       "            color:  #000000;\n",
       "        }#T_76253_row11_col10{\n",
       "            background-color:  #a1c0ff;\n",
       "            color:  #000000;\n",
       "        }#T_76253_row11_col13{\n",
       "            background-color:  #3f53c6;\n",
       "            color:  #f1f1f1;\n",
       "        }#T_76253_row12_col1{\n",
       "            background-color:  #bbd1f8;\n",
       "            color:  #000000;\n",
       "        }#T_76253_row12_col5{\n",
       "            background-color:  #485fd1;\n",
       "            color:  #f1f1f1;\n",
       "        }#T_76253_row12_col8{\n",
       "            background-color:  #cedaeb;\n",
       "            color:  #000000;\n",
       "        }#T_76253_row12_col13{\n",
       "            background-color:  #4e68d8;\n",
       "            color:  #000000;\n",
       "        }#T_76253_row13_col0{\n",
       "            background-color:  #6180e9;\n",
       "            color:  #000000;\n",
       "        }#T_76253_row13_col2{\n",
       "            background-color:  #f1cdba;\n",
       "            color:  #000000;\n",
       "        }#T_76253_row13_col4{\n",
       "            background-color:  #5875e1;\n",
       "            color:  #000000;\n",
       "        }#T_76253_row13_col5{\n",
       "            background-color:  #4a63d3;\n",
       "            color:  #f1f1f1;\n",
       "        }#T_76253_row13_col7,#T_76253_row13_col10{\n",
       "            background-color:  #efcebd;\n",
       "            color:  #000000;\n",
       "        }#T_76253_row13_col9{\n",
       "            background-color:  #5673e0;\n",
       "            color:  #000000;\n",
       "        }</style><table id=\"T_76253_\" ><thead>    <tr>        <th class=\"blank level0\" ></th>        <th class=\"col_heading level0 col0\" >age</th>        <th class=\"col_heading level0 col1\" >sex</th>        <th class=\"col_heading level0 col2\" >cp</th>        <th class=\"col_heading level0 col3\" >trestbps</th>        <th class=\"col_heading level0 col4\" >chol</th>        <th class=\"col_heading level0 col5\" >fbs</th>        <th class=\"col_heading level0 col6\" >restecg</th>        <th class=\"col_heading level0 col7\" >thalach</th>        <th class=\"col_heading level0 col8\" >exang</th>        <th class=\"col_heading level0 col9\" >oldpeak</th>        <th class=\"col_heading level0 col10\" >slope</th>        <th class=\"col_heading level0 col11\" >ca</th>        <th class=\"col_heading level0 col12\" >thal</th>        <th class=\"col_heading level0 col13\" >target</th>    </tr></thead><tbody>\n",
       "                <tr>\n",
       "                        <th id=\"T_76253_level0_row0\" class=\"row_heading level0 row0\" >age</th>\n",
       "                        <td id=\"T_76253_row0_col0\" class=\"data row0 col0\" >1.000000</td>\n",
       "                        <td id=\"T_76253_row0_col1\" class=\"data row0 col1\" >-0.094962</td>\n",
       "                        <td id=\"T_76253_row0_col2\" class=\"data row0 col2\" >-0.063107</td>\n",
       "                        <td id=\"T_76253_row0_col3\" class=\"data row0 col3\" >0.283121</td>\n",
       "                        <td id=\"T_76253_row0_col4\" class=\"data row0 col4\" >0.207216</td>\n",
       "                        <td id=\"T_76253_row0_col5\" class=\"data row0 col5\" >0.119492</td>\n",
       "                        <td id=\"T_76253_row0_col6\" class=\"data row0 col6\" >-0.111590</td>\n",
       "                        <td id=\"T_76253_row0_col7\" class=\"data row0 col7\" >-0.395235</td>\n",
       "                        <td id=\"T_76253_row0_col8\" class=\"data row0 col8\" >0.093216</td>\n",
       "                        <td id=\"T_76253_row0_col9\" class=\"data row0 col9\" >0.206040</td>\n",
       "                        <td id=\"T_76253_row0_col10\" class=\"data row0 col10\" >-0.164124</td>\n",
       "                        <td id=\"T_76253_row0_col11\" class=\"data row0 col11\" >0.302261</td>\n",
       "                        <td id=\"T_76253_row0_col12\" class=\"data row0 col12\" >0.065317</td>\n",
       "                        <td id=\"T_76253_row0_col13\" class=\"data row0 col13\" >-0.221476</td>\n",
       "            </tr>\n",
       "            <tr>\n",
       "                        <th id=\"T_76253_level0_row1\" class=\"row_heading level0 row1\" >sex</th>\n",
       "                        <td id=\"T_76253_row1_col0\" class=\"data row1 col0\" >-0.094962</td>\n",
       "                        <td id=\"T_76253_row1_col1\" class=\"data row1 col1\" >1.000000</td>\n",
       "                        <td id=\"T_76253_row1_col2\" class=\"data row1 col2\" >-0.051740</td>\n",
       "                        <td id=\"T_76253_row1_col3\" class=\"data row1 col3\" >-0.057647</td>\n",
       "                        <td id=\"T_76253_row1_col4\" class=\"data row1 col4\" >-0.195571</td>\n",
       "                        <td id=\"T_76253_row1_col5\" class=\"data row1 col5\" >0.046022</td>\n",
       "                        <td id=\"T_76253_row1_col6\" class=\"data row1 col6\" >-0.060351</td>\n",
       "                        <td id=\"T_76253_row1_col7\" class=\"data row1 col7\" >-0.046439</td>\n",
       "                        <td id=\"T_76253_row1_col8\" class=\"data row1 col8\" >0.143460</td>\n",
       "                        <td id=\"T_76253_row1_col9\" class=\"data row1 col9\" >0.098322</td>\n",
       "                        <td id=\"T_76253_row1_col10\" class=\"data row1 col10\" >-0.032990</td>\n",
       "                        <td id=\"T_76253_row1_col11\" class=\"data row1 col11\" >0.113060</td>\n",
       "                        <td id=\"T_76253_row1_col12\" class=\"data row1 col12\" >0.211452</td>\n",
       "                        <td id=\"T_76253_row1_col13\" class=\"data row1 col13\" >-0.283609</td>\n",
       "            </tr>\n",
       "            <tr>\n",
       "                        <th id=\"T_76253_level0_row2\" class=\"row_heading level0 row2\" >cp</th>\n",
       "                        <td id=\"T_76253_row2_col0\" class=\"data row2 col0\" >-0.063107</td>\n",
       "                        <td id=\"T_76253_row2_col1\" class=\"data row2 col1\" >-0.051740</td>\n",
       "                        <td id=\"T_76253_row2_col2\" class=\"data row2 col2\" >1.000000</td>\n",
       "                        <td id=\"T_76253_row2_col3\" class=\"data row2 col3\" >0.046486</td>\n",
       "                        <td id=\"T_76253_row2_col4\" class=\"data row2 col4\" >-0.072682</td>\n",
       "                        <td id=\"T_76253_row2_col5\" class=\"data row2 col5\" >0.096018</td>\n",
       "                        <td id=\"T_76253_row2_col6\" class=\"data row2 col6\" >0.041561</td>\n",
       "                        <td id=\"T_76253_row2_col7\" class=\"data row2 col7\" >0.293367</td>\n",
       "                        <td id=\"T_76253_row2_col8\" class=\"data row2 col8\" >-0.392937</td>\n",
       "                        <td id=\"T_76253_row2_col9\" class=\"data row2 col9\" >-0.146692</td>\n",
       "                        <td id=\"T_76253_row2_col10\" class=\"data row2 col10\" >0.116854</td>\n",
       "                        <td id=\"T_76253_row2_col11\" class=\"data row2 col11\" >-0.195356</td>\n",
       "                        <td id=\"T_76253_row2_col12\" class=\"data row2 col12\" >-0.160370</td>\n",
       "                        <td id=\"T_76253_row2_col13\" class=\"data row2 col13\" >0.432080</td>\n",
       "            </tr>\n",
       "            <tr>\n",
       "                        <th id=\"T_76253_level0_row3\" class=\"row_heading level0 row3\" >trestbps</th>\n",
       "                        <td id=\"T_76253_row3_col0\" class=\"data row3 col0\" >0.283121</td>\n",
       "                        <td id=\"T_76253_row3_col1\" class=\"data row3 col1\" >-0.057647</td>\n",
       "                        <td id=\"T_76253_row3_col2\" class=\"data row3 col2\" >0.046486</td>\n",
       "                        <td id=\"T_76253_row3_col3\" class=\"data row3 col3\" >1.000000</td>\n",
       "                        <td id=\"T_76253_row3_col4\" class=\"data row3 col4\" >0.125256</td>\n",
       "                        <td id=\"T_76253_row3_col5\" class=\"data row3 col5\" >0.178125</td>\n",
       "                        <td id=\"T_76253_row3_col6\" class=\"data row3 col6\" >-0.115367</td>\n",
       "                        <td id=\"T_76253_row3_col7\" class=\"data row3 col7\" >-0.048023</td>\n",
       "                        <td id=\"T_76253_row3_col8\" class=\"data row3 col8\" >0.068526</td>\n",
       "                        <td id=\"T_76253_row3_col9\" class=\"data row3 col9\" >0.194600</td>\n",
       "                        <td id=\"T_76253_row3_col10\" class=\"data row3 col10\" >-0.122873</td>\n",
       "                        <td id=\"T_76253_row3_col11\" class=\"data row3 col11\" >0.099248</td>\n",
       "                        <td id=\"T_76253_row3_col12\" class=\"data row3 col12\" >0.062870</td>\n",
       "                        <td id=\"T_76253_row3_col13\" class=\"data row3 col13\" >-0.146269</td>\n",
       "            </tr>\n",
       "            <tr>\n",
       "                        <th id=\"T_76253_level0_row4\" class=\"row_heading level0 row4\" >chol</th>\n",
       "                        <td id=\"T_76253_row4_col0\" class=\"data row4 col0\" >0.207216</td>\n",
       "                        <td id=\"T_76253_row4_col1\" class=\"data row4 col1\" >-0.195571</td>\n",
       "                        <td id=\"T_76253_row4_col2\" class=\"data row4 col2\" >-0.072682</td>\n",
       "                        <td id=\"T_76253_row4_col3\" class=\"data row4 col3\" >0.125256</td>\n",
       "                        <td id=\"T_76253_row4_col4\" class=\"data row4 col4\" >1.000000</td>\n",
       "                        <td id=\"T_76253_row4_col5\" class=\"data row4 col5\" >0.011428</td>\n",
       "                        <td id=\"T_76253_row4_col6\" class=\"data row4 col6\" >-0.147602</td>\n",
       "                        <td id=\"T_76253_row4_col7\" class=\"data row4 col7\" >-0.005308</td>\n",
       "                        <td id=\"T_76253_row4_col8\" class=\"data row4 col8\" >0.064099</td>\n",
       "                        <td id=\"T_76253_row4_col9\" class=\"data row4 col9\" >0.050086</td>\n",
       "                        <td id=\"T_76253_row4_col10\" class=\"data row4 col10\" >0.000417</td>\n",
       "                        <td id=\"T_76253_row4_col11\" class=\"data row4 col11\" >0.086878</td>\n",
       "                        <td id=\"T_76253_row4_col12\" class=\"data row4 col12\" >0.096810</td>\n",
       "                        <td id=\"T_76253_row4_col13\" class=\"data row4 col13\" >-0.081437</td>\n",
       "            </tr>\n",
       "            <tr>\n",
       "                        <th id=\"T_76253_level0_row5\" class=\"row_heading level0 row5\" >fbs</th>\n",
       "                        <td id=\"T_76253_row5_col0\" class=\"data row5 col0\" >0.119492</td>\n",
       "                        <td id=\"T_76253_row5_col1\" class=\"data row5 col1\" >0.046022</td>\n",
       "                        <td id=\"T_76253_row5_col2\" class=\"data row5 col2\" >0.096018</td>\n",
       "                        <td id=\"T_76253_row5_col3\" class=\"data row5 col3\" >0.178125</td>\n",
       "                        <td id=\"T_76253_row5_col4\" class=\"data row5 col4\" >0.011428</td>\n",
       "                        <td id=\"T_76253_row5_col5\" class=\"data row5 col5\" >1.000000</td>\n",
       "                        <td id=\"T_76253_row5_col6\" class=\"data row5 col6\" >-0.083081</td>\n",
       "                        <td id=\"T_76253_row5_col7\" class=\"data row5 col7\" >-0.007169</td>\n",
       "                        <td id=\"T_76253_row5_col8\" class=\"data row5 col8\" >0.024729</td>\n",
       "                        <td id=\"T_76253_row5_col9\" class=\"data row5 col9\" >0.004514</td>\n",
       "                        <td id=\"T_76253_row5_col10\" class=\"data row5 col10\" >-0.058654</td>\n",
       "                        <td id=\"T_76253_row5_col11\" class=\"data row5 col11\" >0.144935</td>\n",
       "                        <td id=\"T_76253_row5_col12\" class=\"data row5 col12\" >-0.032752</td>\n",
       "                        <td id=\"T_76253_row5_col13\" class=\"data row5 col13\" >-0.026826</td>\n",
       "            </tr>\n",
       "            <tr>\n",
       "                        <th id=\"T_76253_level0_row6\" class=\"row_heading level0 row6\" >restecg</th>\n",
       "                        <td id=\"T_76253_row6_col0\" class=\"data row6 col0\" >-0.111590</td>\n",
       "                        <td id=\"T_76253_row6_col1\" class=\"data row6 col1\" >-0.060351</td>\n",
       "                        <td id=\"T_76253_row6_col2\" class=\"data row6 col2\" >0.041561</td>\n",
       "                        <td id=\"T_76253_row6_col3\" class=\"data row6 col3\" >-0.115367</td>\n",
       "                        <td id=\"T_76253_row6_col4\" class=\"data row6 col4\" >-0.147602</td>\n",
       "                        <td id=\"T_76253_row6_col5\" class=\"data row6 col5\" >-0.083081</td>\n",
       "                        <td id=\"T_76253_row6_col6\" class=\"data row6 col6\" >1.000000</td>\n",
       "                        <td id=\"T_76253_row6_col7\" class=\"data row6 col7\" >0.041210</td>\n",
       "                        <td id=\"T_76253_row6_col8\" class=\"data row6 col8\" >-0.068807</td>\n",
       "                        <td id=\"T_76253_row6_col9\" class=\"data row6 col9\" >-0.056251</td>\n",
       "                        <td id=\"T_76253_row6_col10\" class=\"data row6 col10\" >0.090402</td>\n",
       "                        <td id=\"T_76253_row6_col11\" class=\"data row6 col11\" >-0.083112</td>\n",
       "                        <td id=\"T_76253_row6_col12\" class=\"data row6 col12\" >-0.010473</td>\n",
       "                        <td id=\"T_76253_row6_col13\" class=\"data row6 col13\" >0.134874</td>\n",
       "            </tr>\n",
       "            <tr>\n",
       "                        <th id=\"T_76253_level0_row7\" class=\"row_heading level0 row7\" >thalach</th>\n",
       "                        <td id=\"T_76253_row7_col0\" class=\"data row7 col0\" >-0.395235</td>\n",
       "                        <td id=\"T_76253_row7_col1\" class=\"data row7 col1\" >-0.046439</td>\n",
       "                        <td id=\"T_76253_row7_col2\" class=\"data row7 col2\" >0.293367</td>\n",
       "                        <td id=\"T_76253_row7_col3\" class=\"data row7 col3\" >-0.048023</td>\n",
       "                        <td id=\"T_76253_row7_col4\" class=\"data row7 col4\" >-0.005308</td>\n",
       "                        <td id=\"T_76253_row7_col5\" class=\"data row7 col5\" >-0.007169</td>\n",
       "                        <td id=\"T_76253_row7_col6\" class=\"data row7 col6\" >0.041210</td>\n",
       "                        <td id=\"T_76253_row7_col7\" class=\"data row7 col7\" >1.000000</td>\n",
       "                        <td id=\"T_76253_row7_col8\" class=\"data row7 col8\" >-0.377411</td>\n",
       "                        <td id=\"T_76253_row7_col9\" class=\"data row7 col9\" >-0.342201</td>\n",
       "                        <td id=\"T_76253_row7_col10\" class=\"data row7 col10\" >0.384754</td>\n",
       "                        <td id=\"T_76253_row7_col11\" class=\"data row7 col11\" >-0.228311</td>\n",
       "                        <td id=\"T_76253_row7_col12\" class=\"data row7 col12\" >-0.094910</td>\n",
       "                        <td id=\"T_76253_row7_col13\" class=\"data row7 col13\" >0.419955</td>\n",
       "            </tr>\n",
       "            <tr>\n",
       "                        <th id=\"T_76253_level0_row8\" class=\"row_heading level0 row8\" >exang</th>\n",
       "                        <td id=\"T_76253_row8_col0\" class=\"data row8 col0\" >0.093216</td>\n",
       "                        <td id=\"T_76253_row8_col1\" class=\"data row8 col1\" >0.143460</td>\n",
       "                        <td id=\"T_76253_row8_col2\" class=\"data row8 col2\" >-0.392937</td>\n",
       "                        <td id=\"T_76253_row8_col3\" class=\"data row8 col3\" >0.068526</td>\n",
       "                        <td id=\"T_76253_row8_col4\" class=\"data row8 col4\" >0.064099</td>\n",
       "                        <td id=\"T_76253_row8_col5\" class=\"data row8 col5\" >0.024729</td>\n",
       "                        <td id=\"T_76253_row8_col6\" class=\"data row8 col6\" >-0.068807</td>\n",
       "                        <td id=\"T_76253_row8_col7\" class=\"data row8 col7\" >-0.377411</td>\n",
       "                        <td id=\"T_76253_row8_col8\" class=\"data row8 col8\" >1.000000</td>\n",
       "                        <td id=\"T_76253_row8_col9\" class=\"data row8 col9\" >0.286766</td>\n",
       "                        <td id=\"T_76253_row8_col10\" class=\"data row8 col10\" >-0.256106</td>\n",
       "                        <td id=\"T_76253_row8_col11\" class=\"data row8 col11\" >0.125377</td>\n",
       "                        <td id=\"T_76253_row8_col12\" class=\"data row8 col12\" >0.205826</td>\n",
       "                        <td id=\"T_76253_row8_col13\" class=\"data row8 col13\" >-0.435601</td>\n",
       "            </tr>\n",
       "            <tr>\n",
       "                        <th id=\"T_76253_level0_row9\" class=\"row_heading level0 row9\" >oldpeak</th>\n",
       "                        <td id=\"T_76253_row9_col0\" class=\"data row9 col0\" >0.206040</td>\n",
       "                        <td id=\"T_76253_row9_col1\" class=\"data row9 col1\" >0.098322</td>\n",
       "                        <td id=\"T_76253_row9_col2\" class=\"data row9 col2\" >-0.146692</td>\n",
       "                        <td id=\"T_76253_row9_col3\" class=\"data row9 col3\" >0.194600</td>\n",
       "                        <td id=\"T_76253_row9_col4\" class=\"data row9 col4\" >0.050086</td>\n",
       "                        <td id=\"T_76253_row9_col5\" class=\"data row9 col5\" >0.004514</td>\n",
       "                        <td id=\"T_76253_row9_col6\" class=\"data row9 col6\" >-0.056251</td>\n",
       "                        <td id=\"T_76253_row9_col7\" class=\"data row9 col7\" >-0.342201</td>\n",
       "                        <td id=\"T_76253_row9_col8\" class=\"data row9 col8\" >0.286766</td>\n",
       "                        <td id=\"T_76253_row9_col9\" class=\"data row9 col9\" >1.000000</td>\n",
       "                        <td id=\"T_76253_row9_col10\" class=\"data row9 col10\" >-0.576314</td>\n",
       "                        <td id=\"T_76253_row9_col11\" class=\"data row9 col11\" >0.236560</td>\n",
       "                        <td id=\"T_76253_row9_col12\" class=\"data row9 col12\" >0.209090</td>\n",
       "                        <td id=\"T_76253_row9_col13\" class=\"data row9 col13\" >-0.429146</td>\n",
       "            </tr>\n",
       "            <tr>\n",
       "                        <th id=\"T_76253_level0_row10\" class=\"row_heading level0 row10\" >slope</th>\n",
       "                        <td id=\"T_76253_row10_col0\" class=\"data row10 col0\" >-0.164124</td>\n",
       "                        <td id=\"T_76253_row10_col1\" class=\"data row10 col1\" >-0.032990</td>\n",
       "                        <td id=\"T_76253_row10_col2\" class=\"data row10 col2\" >0.116854</td>\n",
       "                        <td id=\"T_76253_row10_col3\" class=\"data row10 col3\" >-0.122873</td>\n",
       "                        <td id=\"T_76253_row10_col4\" class=\"data row10 col4\" >0.000417</td>\n",
       "                        <td id=\"T_76253_row10_col5\" class=\"data row10 col5\" >-0.058654</td>\n",
       "                        <td id=\"T_76253_row10_col6\" class=\"data row10 col6\" >0.090402</td>\n",
       "                        <td id=\"T_76253_row10_col7\" class=\"data row10 col7\" >0.384754</td>\n",
       "                        <td id=\"T_76253_row10_col8\" class=\"data row10 col8\" >-0.256106</td>\n",
       "                        <td id=\"T_76253_row10_col9\" class=\"data row10 col9\" >-0.576314</td>\n",
       "                        <td id=\"T_76253_row10_col10\" class=\"data row10 col10\" >1.000000</td>\n",
       "                        <td id=\"T_76253_row10_col11\" class=\"data row10 col11\" >-0.092236</td>\n",
       "                        <td id=\"T_76253_row10_col12\" class=\"data row10 col12\" >-0.103314</td>\n",
       "                        <td id=\"T_76253_row10_col13\" class=\"data row10 col13\" >0.343940</td>\n",
       "            </tr>\n",
       "            <tr>\n",
       "                        <th id=\"T_76253_level0_row11\" class=\"row_heading level0 row11\" >ca</th>\n",
       "                        <td id=\"T_76253_row11_col0\" class=\"data row11 col0\" >0.302261</td>\n",
       "                        <td id=\"T_76253_row11_col1\" class=\"data row11 col1\" >0.113060</td>\n",
       "                        <td id=\"T_76253_row11_col2\" class=\"data row11 col2\" >-0.195356</td>\n",
       "                        <td id=\"T_76253_row11_col3\" class=\"data row11 col3\" >0.099248</td>\n",
       "                        <td id=\"T_76253_row11_col4\" class=\"data row11 col4\" >0.086878</td>\n",
       "                        <td id=\"T_76253_row11_col5\" class=\"data row11 col5\" >0.144935</td>\n",
       "                        <td id=\"T_76253_row11_col6\" class=\"data row11 col6\" >-0.083112</td>\n",
       "                        <td id=\"T_76253_row11_col7\" class=\"data row11 col7\" >-0.228311</td>\n",
       "                        <td id=\"T_76253_row11_col8\" class=\"data row11 col8\" >0.125377</td>\n",
       "                        <td id=\"T_76253_row11_col9\" class=\"data row11 col9\" >0.236560</td>\n",
       "                        <td id=\"T_76253_row11_col10\" class=\"data row11 col10\" >-0.092236</td>\n",
       "                        <td id=\"T_76253_row11_col11\" class=\"data row11 col11\" >1.000000</td>\n",
       "                        <td id=\"T_76253_row11_col12\" class=\"data row11 col12\" >0.160085</td>\n",
       "                        <td id=\"T_76253_row11_col13\" class=\"data row11 col13\" >-0.408992</td>\n",
       "            </tr>\n",
       "            <tr>\n",
       "                        <th id=\"T_76253_level0_row12\" class=\"row_heading level0 row12\" >thal</th>\n",
       "                        <td id=\"T_76253_row12_col0\" class=\"data row12 col0\" >0.065317</td>\n",
       "                        <td id=\"T_76253_row12_col1\" class=\"data row12 col1\" >0.211452</td>\n",
       "                        <td id=\"T_76253_row12_col2\" class=\"data row12 col2\" >-0.160370</td>\n",
       "                        <td id=\"T_76253_row12_col3\" class=\"data row12 col3\" >0.062870</td>\n",
       "                        <td id=\"T_76253_row12_col4\" class=\"data row12 col4\" >0.096810</td>\n",
       "                        <td id=\"T_76253_row12_col5\" class=\"data row12 col5\" >-0.032752</td>\n",
       "                        <td id=\"T_76253_row12_col6\" class=\"data row12 col6\" >-0.010473</td>\n",
       "                        <td id=\"T_76253_row12_col7\" class=\"data row12 col7\" >-0.094910</td>\n",
       "                        <td id=\"T_76253_row12_col8\" class=\"data row12 col8\" >0.205826</td>\n",
       "                        <td id=\"T_76253_row12_col9\" class=\"data row12 col9\" >0.209090</td>\n",
       "                        <td id=\"T_76253_row12_col10\" class=\"data row12 col10\" >-0.103314</td>\n",
       "                        <td id=\"T_76253_row12_col11\" class=\"data row12 col11\" >0.160085</td>\n",
       "                        <td id=\"T_76253_row12_col12\" class=\"data row12 col12\" >1.000000</td>\n",
       "                        <td id=\"T_76253_row12_col13\" class=\"data row12 col13\" >-0.343101</td>\n",
       "            </tr>\n",
       "            <tr>\n",
       "                        <th id=\"T_76253_level0_row13\" class=\"row_heading level0 row13\" >target</th>\n",
       "                        <td id=\"T_76253_row13_col0\" class=\"data row13 col0\" >-0.221476</td>\n",
       "                        <td id=\"T_76253_row13_col1\" class=\"data row13 col1\" >-0.283609</td>\n",
       "                        <td id=\"T_76253_row13_col2\" class=\"data row13 col2\" >0.432080</td>\n",
       "                        <td id=\"T_76253_row13_col3\" class=\"data row13 col3\" >-0.146269</td>\n",
       "                        <td id=\"T_76253_row13_col4\" class=\"data row13 col4\" >-0.081437</td>\n",
       "                        <td id=\"T_76253_row13_col5\" class=\"data row13 col5\" >-0.026826</td>\n",
       "                        <td id=\"T_76253_row13_col6\" class=\"data row13 col6\" >0.134874</td>\n",
       "                        <td id=\"T_76253_row13_col7\" class=\"data row13 col7\" >0.419955</td>\n",
       "                        <td id=\"T_76253_row13_col8\" class=\"data row13 col8\" >-0.435601</td>\n",
       "                        <td id=\"T_76253_row13_col9\" class=\"data row13 col9\" >-0.429146</td>\n",
       "                        <td id=\"T_76253_row13_col10\" class=\"data row13 col10\" >0.343940</td>\n",
       "                        <td id=\"T_76253_row13_col11\" class=\"data row13 col11\" >-0.408992</td>\n",
       "                        <td id=\"T_76253_row13_col12\" class=\"data row13 col12\" >-0.343101</td>\n",
       "                        <td id=\"T_76253_row13_col13\" class=\"data row13 col13\" >1.000000</td>\n",
       "            </tr>\n",
       "    </tbody></table>"
      ],
      "text/plain": [
       "<pandas.io.formats.style.Styler at 0x1d5bf13d100>"
      ]
     },
     "execution_count": 11,
     "metadata": {},
     "output_type": "execute_result"
    }
   ],
   "source": [
    "corr=heartData.corr() \n",
    "corr.style.background_gradient(cmap='coolwarm')"
   ]
  },
  {
   "cell_type": "markdown",
   "id": "cf7a94a8",
   "metadata": {},
   "source": [
    "# EXPLORATORY DATA ANALYSIS"
   ]
  },
  {
   "cell_type": "code",
   "execution_count": 12,
   "id": "7c9a56d0",
   "metadata": {},
   "outputs": [
    {
     "name": "stdout",
     "output_type": "stream",
     "text": [
      "1    164\n",
      "0    138\n",
      "Name: target, dtype: int64\n"
     ]
    },
    {
     "data": {
      "image/png": "[encoded data removed]",
      "text/plain": [
       "<Figure size 720x720 with 1 Axes>"
      ]
     },
     "metadata": {
      "needs_background": "light"
     },
     "output_type": "display_data"
    }
   ],
   "source": [
    "y = heartData[\"target\"]\n",
    "\n",
    "sns.countplot(y)\n",
    "\n",
    "\n",
    "target_temp = heartData.target.value_counts()\n",
    "\n",
    "print(target_temp)"
   ]
  },
  {
   "cell_type": "code",
   "execution_count": 13,
   "id": "307b2e55",
   "metadata": {},
   "outputs": [
    {
     "name": "stdout",
     "output_type": "stream",
     "text": [
      "Percentage of patience without heart problems: 13.46\n",
      "Percentage of patience with heart problems: 16.0\n"
     ]
    }
   ],
   "source": [
    "print(\"Percentage of patience without heart problems: \"+str(round(target_temp[0]*100/1025,2)))\n",
    "print(\"Percentage of patience with heart problems: \"+str(round(target_temp[1]*100/1025,2)))"
   ]
  },
  {
   "cell_type": "markdown",
   "id": "52fccc09",
   "metadata": {},
   "source": [
    "# <h3>Analysing the 'Sex' feature</h3>"
   ]
  },
  {
   "cell_type": "code",
   "execution_count": 14,
   "id": "3130a446",
   "metadata": {},
   "outputs": [
    {
     "data": {
      "text/plain": [
       "array([1, 0], dtype=int64)"
      ]
     },
     "execution_count": 14,
     "metadata": {},
     "output_type": "execute_result"
    }
   ],
   "source": [
    "heartData[\"sex\"].unique()"
   ]
  },
  {
   "cell_type": "code",
   "execution_count": 15,
   "id": "f85a488e",
   "metadata": {},
   "outputs": [
    {
     "data": {
      "text/plain": [
       "<AxesSubplot:xlabel='sex', ylabel='target'>"
      ]
     },
     "execution_count": 15,
     "metadata": {},
     "output_type": "execute_result"
    },
    {
     "data": {
      "image/png": "[encoded data removed]",
      "text/plain": [
       "<Figure size 720x720 with 1 Axes>"
      ]
     },
     "metadata": {
      "needs_background": "light"
     },
     "output_type": "display_data"
    }
   ],
   "source": [
    "sns.barplot(heartData[\"sex\"],y)"
   ]
  },
  {
   "cell_type": "markdown",
   "id": "bba7da18",
   "metadata": {},
   "source": [
    "# <h3>Analysing the 'Chest Pain Type' feature</h3>"
   ]
  },
  {
   "cell_type": "code",
   "execution_count": 16,
   "id": "5df9ab99",
   "metadata": {},
   "outputs": [
    {
     "data": {
      "text/plain": [
       "array([0, 1, 2, 3], dtype=int64)"
      ]
     },
     "execution_count": 16,
     "metadata": {},
     "output_type": "execute_result"
    }
   ],
   "source": [
    "heartData[\"cp\"].unique()"
   ]
  },
  {
   "cell_type": "code",
   "execution_count": 17,
   "id": "9a828722",
   "metadata": {},
   "outputs": [
    {
     "data": {
      "text/plain": [
       "<AxesSubplot:xlabel='cp', ylabel='target'>"
      ]
     },
     "execution_count": 17,
     "metadata": {},
     "output_type": "execute_result"
    },
    {
     "data": {
      "image/png": "[encoded data removed]",
      "text/plain": [
       "<Figure size 720x720 with 1 Axes>"
      ]
     },
     "metadata": {
      "needs_background": "light"
     },
     "output_type": "display_data"
    }
   ],
   "source": [
    "sns.barplot(heartData[\"cp\"],y)"
   ]
  },
  {
   "cell_type": "markdown",
   "id": "8a15e65f",
   "metadata": {},
   "source": [
    "# <h3>Analysing the FBS feature</h3>"
   ]
  },
  {
   "cell_type": "code",
   "execution_count": 20,
   "id": "54908bb2",
   "metadata": {},
   "outputs": [
    {
     "data": {
      "text/plain": [
       "count    302.000000\n",
       "mean       0.149007\n",
       "std        0.356686\n",
       "min        0.000000\n",
       "25%        0.000000\n",
       "50%        0.000000\n",
       "75%        0.000000\n",
       "max        1.000000\n",
       "Name: fbs, dtype: float64"
      ]
     },
     "execution_count": 20,
     "metadata": {},
     "output_type": "execute_result"
    }
   ],
   "source": [
    "heartData[\"fbs\"].describe()"
   ]
  },
  {
   "cell_type": "code",
   "execution_count": 22,
   "id": "8da45e62",
   "metadata": {},
   "outputs": [
    {
     "data": {
      "text/plain": [
       "array([0, 1], dtype=int64)"
      ]
     },
     "execution_count": 22,
     "metadata": {},
     "output_type": "execute_result"
    }
   ],
   "source": [
    "heartData[\"fbs\"].unique()"
   ]
  },
  {
   "cell_type": "code",
   "execution_count": 23,
   "id": "e55bd4d5",
   "metadata": {},
   "outputs": [
    {
     "data": {
      "text/plain": [
       "<AxesSubplot:xlabel='fbs', ylabel='target'>"
      ]
     },
     "execution_count": 23,
     "metadata": {},
     "output_type": "execute_result"
    },
    {
     "data": {
      "image/png": "[encoded data removed]",
      "text/plain": [
       "<Figure size 720x720 with 1 Axes>"
      ]
     },
     "metadata": {
      "needs_background": "light"
     },
     "output_type": "display_data"
    }
   ],
   "source": [
    "sns.barplot(heartData[\"fbs\"],y)"
   ]
  },
  {
   "cell_type": "markdown",
   "id": "d0f72f17",
   "metadata": {},
   "source": [
    "# <h3> Analysing the restecg feature</h3>"
   ]
  },
  {
   "cell_type": "code",
   "execution_count": 24,
   "id": "e7d7b72e",
   "metadata": {},
   "outputs": [
    {
     "data": {
      "text/plain": [
       "array([1, 0, 2], dtype=int64)"
      ]
     },
     "execution_count": 24,
     "metadata": {},
     "output_type": "execute_result"
    }
   ],
   "source": [
    "heartData[\"restecg\"].unique()\n"
   ]
  },
  {
   "cell_type": "code",
   "execution_count": 25,
   "id": "20a9bb28",
   "metadata": {},
   "outputs": [
    {
     "data": {
      "text/plain": [
       "<AxesSubplot:xlabel='restecg', ylabel='target'>"
      ]
     },
     "execution_count": 25,
     "metadata": {},
     "output_type": "execute_result"
    },
    {
     "data": {
      "image/png": "[encoded data removed]",
      "text/plain": [
       "<Figure size 720x720 with 1 Axes>"
      ]
     },
     "metadata": {
      "needs_background": "light"
     },
     "output_type": "display_data"
    }
   ],
   "source": [
    "sns.barplot(heartData[\"restecg\"],y)"
   ]
  },
  {
   "cell_type": "markdown",
   "id": "47dfa234",
   "metadata": {},
   "source": [
    "# <h3>Analysing the 'exang' feature</h3>"
   ]
  },
  {
   "cell_type": "code",
   "execution_count": 26,
   "id": "4ff62d12",
   "metadata": {},
   "outputs": [
    {
     "data": {
      "text/plain": [
       "array([0, 1], dtype=int64)"
      ]
     },
     "execution_count": 26,
     "metadata": {},
     "output_type": "execute_result"
    }
   ],
   "source": [
    "heartData[\"exang\"].unique()"
   ]
  },
  {
   "cell_type": "code",
   "execution_count": 27,
   "id": "14bdb43d",
   "metadata": {},
   "outputs": [
    {
     "data": {
      "text/plain": [
       "<AxesSubplot:xlabel='exang', ylabel='target'>"
      ]
     },
     "execution_count": 27,
     "metadata": {},
     "output_type": "execute_result"
    },
    {
     "data": {
      "image/png": "[encoded data removed]",
      "text/plain": [
       "<Figure size 720x720 with 1 Axes>"
      ]
     },
     "metadata": {
      "needs_background": "light"
     },
     "output_type": "display_data"
    }
   ],
   "source": [
    "sns.barplot(heartData[\"exang\"],y)"
   ]
  },
  {
   "cell_type": "markdown",
   "id": "4b0b375f",
   "metadata": {},
   "source": [
    "# <h3> Analysing the 'Slope' feature</h3>"
   ]
  },
  {
   "cell_type": "code",
   "execution_count": 28,
   "id": "ced445b0",
   "metadata": {},
   "outputs": [
    {
     "data": {
      "text/plain": [
       "array([2, 0, 1], dtype=int64)"
      ]
     },
     "execution_count": 28,
     "metadata": {},
     "output_type": "execute_result"
    }
   ],
   "source": [
    "heartData[\"slope\"].unique()"
   ]
  },
  {
   "cell_type": "code",
   "execution_count": 29,
   "id": "fa5d7c1f",
   "metadata": {},
   "outputs": [
    {
     "data": {
      "text/plain": [
       "<AxesSubplot:xlabel='slope', ylabel='target'>"
      ]
     },
     "execution_count": 29,
     "metadata": {},
     "output_type": "execute_result"
    },
    {
     "data": {
      "image/png": "[encoded data removed]",
      "text/plain": [
       "<Figure size 720x720 with 1 Axes>"
      ]
     },
     "metadata": {
      "needs_background": "light"
     },
     "output_type": "display_data"
    }
   ],
   "source": [
    "sns.barplot(heartData[\"slope\"],y)\n"
   ]
  },
  {
   "cell_type": "markdown",
   "id": "a75d8f73",
   "metadata": {},
   "source": [
    "# <h3>Analysing the 'ca' feature</h3>"
   ]
  },
  {
   "cell_type": "code",
   "execution_count": 30,
   "id": "b72570b9",
   "metadata": {},
   "outputs": [
    {
     "data": {
      "text/plain": [
       "array([2, 0, 1, 3, 4], dtype=int64)"
      ]
     },
     "execution_count": 30,
     "metadata": {},
     "output_type": "execute_result"
    }
   ],
   "source": [
    "heartData[\"ca\"].unique()"
   ]
  },
  {
   "cell_type": "code",
   "execution_count": 31,
   "id": "ad7b2e14",
   "metadata": {},
   "outputs": [
    {
     "data": {
      "text/plain": [
       "<AxesSubplot:xlabel='ca', ylabel='target'>"
      ]
     },
     "execution_count": 31,
     "metadata": {},
     "output_type": "execute_result"
    },
    {
     "data": {
      "image/png": "[encoded data removed]",
      "text/plain": [
       "<Figure size 720x720 with 1 Axes>"
      ]
     },
     "metadata": {
      "needs_background": "light"
     },
     "output_type": "display_data"
    }
   ],
   "source": [
    "sns.barplot(heartData[\"ca\"],y)\n"
   ]
  },
  {
   "cell_type": "markdown",
   "id": "dc39ea32",
   "metadata": {},
   "source": [
    "# <h3>Analysing the 'thal' feature</h3>"
   ]
  },
  {
   "cell_type": "code",
   "execution_count": 32,
   "id": "cf06ba6c",
   "metadata": {},
   "outputs": [
    {
     "data": {
      "text/plain": [
       "array([3, 2, 1, 0], dtype=int64)"
      ]
     },
     "execution_count": 32,
     "metadata": {},
     "output_type": "execute_result"
    }
   ],
   "source": [
    " heartData[\"thal\"].unique()"
   ]
  },
  {
   "cell_type": "code",
   "execution_count": 33,
   "id": "d4f2aaea",
   "metadata": {},
   "outputs": [
    {
     "data": {
      "text/plain": [
       "<AxesSubplot:xlabel='thal', ylabel='target'>"
      ]
     },
     "execution_count": 33,
     "metadata": {},
     "output_type": "execute_result"
    },
    {
     "data": {
      "image/png": "[encoded data removed]",
      "text/plain": [
       "<Figure size 720x720 with 1 Axes>"
      ]
     },
     "metadata": {
      "needs_background": "light"
     },
     "output_type": "display_data"
    }
   ],
   "source": [
    "sns.barplot(heartData[\"thal\"],y)"
   ]
  },
  {
   "cell_type": "markdown",
   "id": "3364f36a",
   "metadata": {},
   "source": [
    "# Train Test Split"
   ]
  },
  {
   "cell_type": "code",
   "execution_count": 34,
   "id": "84cfa9a6",
   "metadata": {},
   "outputs": [],
   "source": [
    "from sklearn.model_selection import train_test_split\n",
    "\n",
    "predictors = heartData.drop(\"target\",axis=1)\n",
    "target = heartData[\"target\"]\n",
    "\n",
    "X_train,X_test,Y_train,Y_test = train_test_split(predictors,target,test_size=0.20,random_state=0)"
   ]
  },
  {
   "cell_type": "code",
   "execution_count": 35,
   "id": "d4f57f2f",
   "metadata": {},
   "outputs": [
    {
     "data": {
      "text/plain": [
       "(241, 13)"
      ]
     },
     "execution_count": 35,
     "metadata": {},
     "output_type": "execute_result"
    }
   ],
   "source": [
    "X_train.shape"
   ]
  },
  {
   "cell_type": "code",
   "execution_count": 36,
   "id": "c9101bd2",
   "metadata": {},
   "outputs": [
    {
     "data": {
      "text/plain": [
       "(61, 13)"
      ]
     },
     "execution_count": 36,
     "metadata": {},
     "output_type": "execute_result"
    }
   ],
   "source": [
    "X_test.shape"
   ]
  },
  {
   "cell_type": "code",
   "execution_count": 37,
   "id": "f705421a",
   "metadata": {},
   "outputs": [
    {
     "data": {
      "text/plain": [
       "(241,)"
      ]
     },
     "execution_count": 37,
     "metadata": {},
     "output_type": "execute_result"
    }
   ],
   "source": [
    "Y_train.shape"
   ]
  },
  {
   "cell_type": "code",
   "execution_count": 38,
   "id": "a2c4f918",
   "metadata": {},
   "outputs": [
    {
     "data": {
      "text/plain": [
       "(61,)"
      ]
     },
     "execution_count": 38,
     "metadata": {},
     "output_type": "execute_result"
    }
   ],
   "source": [
    "Y_test.shape"
   ]
  },
  {
   "cell_type": "markdown",
   "id": "3c917f38",
   "metadata": {},
   "source": [
    "# Model Fitting"
   ]
  },
  {
   "cell_type": "code",
   "execution_count": 39,
   "id": "cf620ab1",
   "metadata": {},
   "outputs": [],
   "source": [
    "from sklearn.metrics import accuracy_score"
   ]
  },
  {
   "cell_type": "markdown",
   "id": "76b791ca",
   "metadata": {},
   "source": [
    "# <h3>Logistic Regression</h3>"
   ]
  },
  {
   "cell_type": "code",
   "execution_count": 40,
   "id": "3b3d8766",
   "metadata": {},
   "outputs": [],
   "source": [
    "from sklearn.linear_model import LogisticRegression\n",
    "\n",
    "lr = LogisticRegression()\n",
    "\n",
    "lr.fit(X_train,Y_train)\n",
    "\n",
    "Y_pred_lr = lr.predict(X_test)"
   ]
  },
  {
   "cell_type": "code",
   "execution_count": 41,
   "id": "644652e4",
   "metadata": {},
   "outputs": [
    {
     "data": {
      "text/plain": [
       "(61,)"
      ]
     },
     "execution_count": 41,
     "metadata": {},
     "output_type": "execute_result"
    }
   ],
   "source": [
    "Y_pred_lr.shape"
   ]
  },
  {
   "cell_type": "code",
   "execution_count": 42,
   "id": "88ea886a",
   "metadata": {},
   "outputs": [
    {
     "name": "stdout",
     "output_type": "stream",
     "text": [
      "The accuracy score achieved using Logistic Regression is: 83.61 %\n"
     ]
    }
   ],
   "source": [
    "score_lr = round(accuracy_score(Y_pred_lr,Y_test)*100,2)\n",
    "\n",
    "print(\"The accuracy score achieved using Logistic Regression is: \"+str(score_lr)+\" %\")"
   ]
  },
  {
   "cell_type": "markdown",
   "id": "72a7a75a",
   "metadata": {},
   "source": [
    "#<h3> Naive Bayes</h3>"
   ]
  },
  {
   "cell_type": "code",
   "execution_count": 43,
   "id": "f8475ba0",
   "metadata": {},
   "outputs": [],
   "source": [
    "from sklearn.naive_bayes import GaussianNB\n",
    "\n",
    "nb = GaussianNB()\n",
    "\n",
    "nb.fit(X_train,Y_train)\n",
    "\n",
    "Y_pred_nb = nb.predict(X_test)"
   ]
  },
  {
   "cell_type": "code",
   "execution_count": 44,
   "id": "41330454",
   "metadata": {},
   "outputs": [
    {
     "data": {
      "text/plain": [
       "(61,)"
      ]
     },
     "execution_count": 44,
     "metadata": {},
     "output_type": "execute_result"
    }
   ],
   "source": [
    "Y_pred_nb.shape"
   ]
  },
  {
   "cell_type": "code",
   "execution_count": 45,
   "id": "77d124cb",
   "metadata": {},
   "outputs": [
    {
     "name": "stdout",
     "output_type": "stream",
     "text": [
      "The accuracy score achieved using Naive Bayes is: 80.33 %\n"
     ]
    }
   ],
   "source": [
    "score_nb = round(accuracy_score(Y_pred_nb,Y_test)*100,2)\n",
    "\n",
    "print(\"The accuracy score achieved using Naive Bayes is: \"+str(score_nb)+\" %\")"
   ]
  },
  {
   "cell_type": "markdown",
   "id": "17a403db",
   "metadata": {},
   "source": [
    "#<h3> K Nearest Neighbors</h3>"
   ]
  },
  {
   "cell_type": "code",
   "execution_count": 46,
   "id": "f1eae4fa",
   "metadata": {},
   "outputs": [],
   "source": [
    "from sklearn.neighbors import KNeighborsClassifier\n",
    "\n",
    "knn = KNeighborsClassifier(n_neighbors=7)\n",
    "knn.fit(X_train,Y_train)\n",
    "Y_pred_knn=knn.predict(X_test)"
   ]
  },
  {
   "cell_type": "code",
   "execution_count": 47,
   "id": "f7e755a9",
   "metadata": {},
   "outputs": [
    {
     "data": {
      "text/plain": [
       "(61,)"
      ]
     },
     "execution_count": 47,
     "metadata": {},
     "output_type": "execute_result"
    }
   ],
   "source": [
    "Y_pred_knn.shape"
   ]
  },
  {
   "cell_type": "code",
   "execution_count": 48,
   "id": "e69b7c31",
   "metadata": {},
   "outputs": [
    {
     "name": "stdout",
     "output_type": "stream",
     "text": [
      "The accuracy score achieved using KNN is: 65.57 %\n"
     ]
    }
   ],
   "source": [
    "score_knn = round(accuracy_score(Y_pred_knn,Y_test)*100,2)\n",
    "\n",
    "print(\"The accuracy score achieved using KNN is: \"+str(score_knn)+\" %\")"
   ]
  },
  {
   "cell_type": "markdown",
   "id": "6458943d",
   "metadata": {},
   "source": [
    "# <h3>Decision Tree</h3>"
   ]
  },
  {
   "cell_type": "code",
   "execution_count": 51,
   "id": "880ad9c8",
   "metadata": {},
   "outputs": [],
   "source": [
    "from sklearn.tree import DecisionTreeClassifier\n",
    "\n",
    "max_accuracy = 0\n",
    "\n",
    "\n",
    "for x in range(200):\n",
    "    dt = DecisionTreeClassifier(random_state=x)\n",
    "    dt.fit(X_train,Y_train)\n",
    "    Y_pred_dt = dt.predict(X_test)\n",
    "    current_accuracy = round(accuracy_score(Y_pred_dt,Y_test)*100,2)\n",
    "    if(current_accuracy>max_accuracy):\n",
    "        max_accuracy = current_accuracy\n",
    "        best_x = x\n",
    "        \n",
    "#print(max_accuracy)\n",
    "#print(best_x)\n",
    "\n",
    "\n",
    "dt = DecisionTreeClassifier(random_state=best_x)\n",
    "dt.fit(X_train,Y_train)\n",
    "Y_pred_dt = dt.predict(X_test)"
   ]
  },
  {
   "cell_type": "code",
   "execution_count": 52,
   "id": "aa9c9370",
   "metadata": {},
   "outputs": [
    {
     "name": "stdout",
     "output_type": "stream",
     "text": [
      "(61,)\n"
     ]
    }
   ],
   "source": [
    "\n",
    "print(Y_pred_dt.shape)"
   ]
  },
  {
   "cell_type": "code",
   "execution_count": 53,
   "id": "142389b2",
   "metadata": {},
   "outputs": [
    {
     "name": "stdout",
     "output_type": "stream",
     "text": [
      "The accuracy score achieved using Decision Tree is: 85.25 %\n"
     ]
    }
   ],
   "source": [
    "score_dt = round(accuracy_score(Y_pred_dt,Y_test)*100,2)\n",
    "\n",
    "print(\"The accuracy score achieved using Decision Tree is: \"+str(score_dt)+\" %\")\n"
   ]
  },
  {
   "cell_type": "markdown",
   "id": "b86c8208",
   "metadata": {},
   "source": [
    "#<h3> Random Forest</h3>"
   ]
  },
  {
   "cell_type": "code",
   "execution_count": 54,
   "id": "5d72c872",
   "metadata": {},
   "outputs": [],
   "source": [
    "from sklearn.ensemble import RandomForestClassifier\n",
    "\n",
    "max_accuracy = 0\n",
    "\n",
    "\n",
    "for x in range(2000):\n",
    "    rf = RandomForestClassifier(random_state=x)\n",
    "    rf.fit(X_train,Y_train)\n",
    "    Y_pred_rf = rf.predict(X_test)\n",
    "    current_accuracy = round(accuracy_score(Y_pred_rf,Y_test)*100,2)\n",
    "    if(current_accuracy>max_accuracy):\n",
    "        max_accuracy = current_accuracy\n",
    "        best_x = x\n",
    "        \n",
    "#print(max_accuracy)\n",
    "#print(best_x)\n",
    "\n",
    "rf = RandomForestClassifier(random_state=best_x)\n",
    "rf.fit(X_train,Y_train)\n",
    "Y_pred_rf = rf.predict(X_test)\n"
   ]
  },
  {
   "cell_type": "code",
   "execution_count": 55,
   "id": "74808886",
   "metadata": {},
   "outputs": [
    {
     "data": {
      "text/plain": [
       "(61,)"
      ]
     },
     "execution_count": 55,
     "metadata": {},
     "output_type": "execute_result"
    }
   ],
   "source": [
    "Y_pred_rf.shape"
   ]
  },
  {
   "cell_type": "code",
   "execution_count": 56,
   "id": "4c7952dd",
   "metadata": {},
   "outputs": [
    {
     "name": "stdout",
     "output_type": "stream",
     "text": [
      "The accuracy score achieved using Decision Tree is: 86.89 %\n"
     ]
    }
   ],
   "source": [
    "score_rf = round(accuracy_score(Y_pred_rf,Y_test)*100,2)\n",
    "\n",
    "print(\"The accuracy score achieved using Random Forest Tree is: \"+str(score_rf)+\" %\")\n"
   ]
  },
  {
   "cell_type": "markdown",
   "id": "03353a82",
   "metadata": {},
   "source": [
    "# Output Final score"
   ]
  },
  {
   "cell_type": "code",
   "execution_count": 57,
   "id": "712d3a91",
   "metadata": {},
   "outputs": [
    {
     "name": "stdout",
     "output_type": "stream",
     "text": [
      "The accuracy score achieved using Logistic Regression is: 83.61 %\n",
      "The accuracy score achieved using Naive Bayes is: 80.33 %\n",
      "The accuracy score achieved using K-Nearest Neighbors is: 65.57 %\n",
      "The accuracy score achieved using Decision Tree is: 85.25 %\n",
      "The accuracy score achieved using Random Forest is: 86.89 %\n"
     ]
    }
   ],
   "source": [
    "scores = [score_lr,score_nb,score_knn,score_dt,score_rf]\n",
    "algorithms = [\"Logistic Regression\",\"Naive Bayes\",\"K-Nearest Neighbors\",\"Decision Tree\",\"Random Forest\"]    \n",
    "\n",
    "for i in range(len(algorithms)):\n",
    "    print(\"The accuracy score achieved using \"+algorithms[i]+\" is: \"+str(scores[i])+\" %\")"
   ]
  },
  {
   "cell_type": "code",
   "execution_count": 58,
   "id": "870c2972",
   "metadata": {},
   "outputs": [
    {
     "data": {
      "text/plain": [
       "<AxesSubplot:xlabel='Algorithms', ylabel='Accuracy score'>"
      ]
     },
     "execution_count": 58,
     "metadata": {},
     "output_type": "execute_result"
    },
    {
     "data": {
      "image/png": "[encoded data removed]",
      "text/plain": [
       "<Figure size 1080x576 with 1 Axes>"
      ]
     },
     "metadata": {},
     "output_type": "display_data"
    }
   ],
   "source": [
    "sns.set(rc={'figure.figsize':(15,8)})\n",
    "plt.xlabel(\"Algorithms\")\n",
    "plt.ylabel(\"Accuracy score\")\n",
    "\n",
    "sns.barplot(algorithms,scores)"
   ]
  },
  {
   "cell_type": "code",
   "execution_count": null,
   "id": "215e0393",
   "metadata": {},
   "outputs": [],
   "source": []
  }
 ],
 "metadata": {
  "kernelspec": {
   "display_name": "Python 3",
   "language": "python",
   "name": "python3"
  },
  "language_info": {
   "codemirror_mode": {
    "name": "ipython",
    "version": 3
   },
   "file_extension": ".py",
   "mimetype": "text/x-python",
   "name": "python",
   "nbconvert_exporter": "python",
   "pygments_lexer": "ipython3",
   "version": "3.8.8"
  }
 },
 "nbformat": 4,
 "nbformat_minor": 5
}
